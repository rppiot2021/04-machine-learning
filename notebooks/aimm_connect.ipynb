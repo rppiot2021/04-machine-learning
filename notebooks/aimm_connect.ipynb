{
 "cells": [
  {
   "cell_type": "code",
   "execution_count": 1,
   "id": "5f6014e0",
   "metadata": {},
   "outputs": [],
   "source": [
    "from aimm.client import repl"
   ]
  },
  {
   "cell_type": "code",
   "execution_count": 2,
   "id": "fa755dc8",
   "metadata": {},
   "outputs": [
    {
     "name": "stdout",
     "output_type": "stream",
     "text": [
      "Username: user\n",
      "Password: ········\n"
     ]
    }
   ],
   "source": [
    "client = repl.AIMM()\n",
    "await client.connect('ws://127.0.0.1:9999/ws')"
   ]
  },
  {
   "cell_type": "code",
   "execution_count": 3,
   "id": "893f7876",
   "metadata": {},
   "outputs": [],
   "source": [
    "model = await client.create_instance('air_supervision.aimm.model.MultiOutputSVR')"
   ]
  },
  {
   "cell_type": "code",
   "execution_count": 4,
   "id": "d4b7ea13",
   "metadata": {},
   "outputs": [],
   "source": [
    "import pandas\n",
    "import numpy\n",
    "\n",
    "df = pandas.read_csv('../dataset/sanatized.csv')\n",
    "goal = 'PT08.S1(CO)'\n",
    "x, y = [], []\n",
    "for i in range(48, len(df) - 24, 24):\n",
    "    x.append(df[goal][i - 48:i])\n",
    "    y.append(df[goal][i:i + 24])\n",
    "x, y = numpy.array(x), numpy.array(y)"
   ]
  },
  {
   "cell_type": "code",
   "execution_count": 5,
   "id": "11e72c53",
   "metadata": {},
   "outputs": [],
   "source": [
    "await model.fit(x.tolist(), y.tolist())"
   ]
  },
  {
   "cell_type": "code",
   "execution_count": 6,
   "id": "53a6211c",
   "metadata": {},
   "outputs": [
    {
     "data": {
      "text/plain": [
       "[1509.9001575808047,\n",
       " 1524.9000116592006,\n",
       " 1842.8998764638447,\n",
       " 1597.8999046617785,\n",
       " 1483.899961196664,\n",
       " 1485.4323548018704,\n",
       " 1279.8998287726406,\n",
       " 1195.8998909810714,\n",
       " 1183.899936205558,\n",
       " 1171.8998624713963,\n",
       " 1146.8998887479006,\n",
       " 978.1000799437264,\n",
       " 1099.9005350760879,\n",
       " 1112.100192010362,\n",
       " 1336.1002400074149,\n",
       " 1408.1002498789087,\n",
       " 1446.900129328761,\n",
       " 1541.8998297262629,\n",
       " 1450.8999862555147,\n",
       " 1327.8998411333528,\n",
       " 1207.1002816001937,\n",
       " 1239.8996174784124,\n",
       " 1305.900174246428,\n",
       " 1325.9001207500219]"
      ]
     },
     "execution_count": 6,
     "metadata": {},
     "output_type": "execute_result"
    }
   ],
   "source": [
    "await model.predict(x.tolist()[0])"
   ]
  },
  {
   "cell_type": "code",
   "execution_count": null,
   "id": "f532481b",
   "metadata": {},
   "outputs": [],
   "source": []
  }
 ],
 "metadata": {
  "kernelspec": {
   "display_name": "Python 3 (ipykernel)",
   "language": "python",
   "name": "python3"
  },
  "language_info": {
   "codemirror_mode": {
    "name": "ipython",
    "version": 3
   },
   "file_extension": ".py",
   "mimetype": "text/x-python",
   "name": "python",
   "nbconvert_exporter": "python",
   "pygments_lexer": "ipython3",
   "version": "3.9.9"
  }
 },
 "nbformat": 4,
 "nbformat_minor": 5
}
