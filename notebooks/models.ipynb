{
 "cells": [
  {
   "cell_type": "code",
   "execution_count": 1,
   "id": "2dbb49e0",
   "metadata": {},
   "outputs": [
    {
     "data": {
      "text/html": [
       "<div>\n",
       "<style scoped>\n",
       "    .dataframe tbody tr th:only-of-type {\n",
       "        vertical-align: middle;\n",
       "    }\n",
       "\n",
       "    .dataframe tbody tr th {\n",
       "        vertical-align: top;\n",
       "    }\n",
       "\n",
       "    .dataframe thead th {\n",
       "        text-align: right;\n",
       "    }\n",
       "</style>\n",
       "<table border=\"1\" class=\"dataframe\">\n",
       "  <thead>\n",
       "    <tr style=\"text-align: right;\">\n",
       "      <th></th>\n",
       "      <th>PT08.S1(CO)</th>\n",
       "      <th>T</th>\n",
       "      <th>RH</th>\n",
       "      <th>AH</th>\n",
       "    </tr>\n",
       "  </thead>\n",
       "  <tbody>\n",
       "    <tr>\n",
       "      <th>0</th>\n",
       "      <td>1360</td>\n",
       "      <td>13.6</td>\n",
       "      <td>48.9</td>\n",
       "      <td>0.7578</td>\n",
       "    </tr>\n",
       "    <tr>\n",
       "      <th>1</th>\n",
       "      <td>1292</td>\n",
       "      <td>13.3</td>\n",
       "      <td>47.7</td>\n",
       "      <td>0.7255</td>\n",
       "    </tr>\n",
       "    <tr>\n",
       "      <th>2</th>\n",
       "      <td>1402</td>\n",
       "      <td>11.9</td>\n",
       "      <td>54.0</td>\n",
       "      <td>0.7502</td>\n",
       "    </tr>\n",
       "    <tr>\n",
       "      <th>3</th>\n",
       "      <td>1376</td>\n",
       "      <td>11.0</td>\n",
       "      <td>60.0</td>\n",
       "      <td>0.7867</td>\n",
       "    </tr>\n",
       "    <tr>\n",
       "      <th>4</th>\n",
       "      <td>1272</td>\n",
       "      <td>11.2</td>\n",
       "      <td>59.6</td>\n",
       "      <td>0.7888</td>\n",
       "    </tr>\n",
       "    <tr>\n",
       "      <th>...</th>\n",
       "      <td>...</td>\n",
       "      <td>...</td>\n",
       "      <td>...</td>\n",
       "      <td>...</td>\n",
       "    </tr>\n",
       "    <tr>\n",
       "      <th>8986</th>\n",
       "      <td>1314</td>\n",
       "      <td>21.9</td>\n",
       "      <td>29.3</td>\n",
       "      <td>0.7568</td>\n",
       "    </tr>\n",
       "    <tr>\n",
       "      <th>8987</th>\n",
       "      <td>1163</td>\n",
       "      <td>24.3</td>\n",
       "      <td>23.7</td>\n",
       "      <td>0.7119</td>\n",
       "    </tr>\n",
       "    <tr>\n",
       "      <th>8988</th>\n",
       "      <td>1142</td>\n",
       "      <td>26.9</td>\n",
       "      <td>18.3</td>\n",
       "      <td>0.6406</td>\n",
       "    </tr>\n",
       "    <tr>\n",
       "      <th>8989</th>\n",
       "      <td>1003</td>\n",
       "      <td>28.3</td>\n",
       "      <td>13.5</td>\n",
       "      <td>0.5139</td>\n",
       "    </tr>\n",
       "    <tr>\n",
       "      <th>8990</th>\n",
       "      <td>1071</td>\n",
       "      <td>28.5</td>\n",
       "      <td>13.1</td>\n",
       "      <td>0.5028</td>\n",
       "    </tr>\n",
       "  </tbody>\n",
       "</table>\n",
       "<p>8991 rows × 4 columns</p>\n",
       "</div>"
      ],
      "text/plain": [
       "      PT08.S1(CO)     T    RH      AH\n",
       "0            1360  13.6  48.9  0.7578\n",
       "1            1292  13.3  47.7  0.7255\n",
       "2            1402  11.9  54.0  0.7502\n",
       "3            1376  11.0  60.0  0.7867\n",
       "4            1272  11.2  59.6  0.7888\n",
       "...           ...   ...   ...     ...\n",
       "8986         1314  21.9  29.3  0.7568\n",
       "8987         1163  24.3  23.7  0.7119\n",
       "8988         1142  26.9  18.3  0.6406\n",
       "8989         1003  28.3  13.5  0.5139\n",
       "8990         1071  28.5  13.1  0.5028\n",
       "\n",
       "[8991 rows x 4 columns]"
      ]
     },
     "execution_count": 1,
     "metadata": {},
     "output_type": "execute_result"
    }
   ],
   "source": [
    "import pandas\n",
    "\n",
    "df = pandas.read_csv('../dataset/sanatized.csv')\n",
    "goal = 'PT08.S1(CO)'\n",
    "df"
   ]
  },
  {
   "cell_type": "code",
   "execution_count": 3,
   "id": "e6043496",
   "metadata": {},
   "outputs": [],
   "source": [
    "from sklearn import svm\n",
    "\n",
    "# model = svm.SVR(C=1.0, epsilon=0.2)\n",
    "model = svm.SVR(C=100)"
   ]
  },
  {
   "cell_type": "code",
   "execution_count": 4,
   "id": "c3747963",
   "metadata": {},
   "outputs": [
    {
     "data": {
      "text/plain": [
       "(array([[1360, 1292, 1402, ..., 1353, 1309, 1274],\n",
       "        [1292, 1402, 1376, ..., 1309, 1274, 1510],\n",
       "        [1402, 1376, 1272, ..., 1274, 1510, 1525],\n",
       "        ...,\n",
       "        [ 877,  867,  892, ..., 1446, 1297, 1314],\n",
       "        [ 867,  892,  889, ..., 1297, 1314, 1163],\n",
       "        [ 892,  889,  900, ..., 1314, 1163, 1142]]),\n",
       " array([1510, 1525, 1843, ..., 1163, 1142, 1003]))"
      ]
     },
     "execution_count": 4,
     "metadata": {},
     "output_type": "execute_result"
    }
   ],
   "source": [
    "import numpy as np\n",
    "\n",
    "x = []\n",
    "y = []\n",
    "for i in range(48, len(df) - 1):\n",
    "    x.append(df[goal][i - 48:i])\n",
    "    y.append(df[goal][i])\n",
    "x, y = np.array(x), np.array(y)\n",
    "x, y"
   ]
  },
  {
   "cell_type": "code",
   "execution_count": 5,
   "id": "8d561c30",
   "metadata": {},
   "outputs": [
    {
     "data": {
      "text/plain": [
       "((8942, 48), (8942,))"
      ]
     },
     "execution_count": 5,
     "metadata": {},
     "output_type": "execute_result"
    }
   ],
   "source": [
    "x.shape, y.shape"
   ]
  },
  {
   "cell_type": "code",
   "execution_count": 6,
   "id": "e0bb8d65",
   "metadata": {},
   "outputs": [
    {
     "data": {
      "text/plain": [
       "SVR(C=100)"
      ]
     },
     "execution_count": 6,
     "metadata": {},
     "output_type": "execute_result"
    }
   ],
   "source": [
    "model.fit(x, y)"
   ]
  },
  {
   "cell_type": "code",
   "execution_count": 7,
   "id": "6e4e100a",
   "metadata": {},
   "outputs": [
    {
     "data": {
      "text/plain": [
       "71.05565874921373"
      ]
     },
     "execution_count": 7,
     "metadata": {},
     "output_type": "execute_result"
    }
   ],
   "source": [
    "from sklearn import metrics\n",
    "rmse = metrics.mean_squared_error(model.predict(x), y) ** 0.5\n",
    "rmse"
   ]
  },
  {
   "cell_type": "code",
   "execution_count": 8,
   "id": "915eb1f4",
   "metadata": {},
   "outputs": [
    {
     "data": {
      "text/plain": [
       "0.05100908740072774"
      ]
     },
     "execution_count": 8,
     "metadata": {},
     "output_type": "execute_result"
    }
   ],
   "source": [
    "rmse / (df[goal].max() - df[goal].min())"
   ]
  },
  {
   "cell_type": "code",
   "execution_count": 9,
   "id": "f353f3f0",
   "metadata": {},
   "outputs": [],
   "source": [
    "from sklearn import multioutput\n",
    "\n",
    "model = multioutput.MultiOutputRegressor(svm.SVR(C=2000))"
   ]
  },
  {
   "cell_type": "code",
   "execution_count": 10,
   "id": "149676ed",
   "metadata": {},
   "outputs": [
    {
     "data": {
      "text/plain": [
       "(array([[1360, 1292, 1402, ..., 1353, 1309, 1274],\n",
       "        [1581, 1776, 1640, ..., 1240, 1306, 1326],\n",
       "        [1510, 1525, 1843, ..., 1258, 1458, 1438],\n",
       "        ...,\n",
       "        [1024,  938,  905, ...,  895,  886,  886],\n",
       "        [1013,  998,  923, ...,  823,  835,  893],\n",
       "        [ 848,  818,  848, ...,  885,  891,  904]]),\n",
       " array([[1510, 1525, 1843, ..., 1240, 1306, 1326],\n",
       "        [1473, 1609, 1611, ..., 1258, 1458, 1438],\n",
       "        [1478, 1808, 1898, ..., 1317, 1318, 1445],\n",
       "        ...,\n",
       "        [ 848,  818,  848, ...,  823,  835,  893],\n",
       "        [ 965,  838,  835, ...,  885,  891,  904],\n",
       "        [ 929,  951,  938, ..., 1102, 1116, 1100]]))"
      ]
     },
     "execution_count": 10,
     "metadata": {},
     "output_type": "execute_result"
    }
   ],
   "source": [
    "x = []\n",
    "y = []\n",
    "for i in range(48, len(df) - 24, 24):\n",
    "    x.append(df[goal][i - 48:i])\n",
    "    y.append(df[goal][i:i + 24])\n",
    "x, y = np.array(x), np.array(y)\n",
    "x, y"
   ]
  },
  {
   "cell_type": "code",
   "execution_count": 11,
   "id": "e2ba1d78",
   "metadata": {},
   "outputs": [
    {
     "data": {
      "text/plain": [
       "((372, 48), (372, 24))"
      ]
     },
     "execution_count": 11,
     "metadata": {},
     "output_type": "execute_result"
    }
   ],
   "source": [
    "x.shape, y.shape"
   ]
  },
  {
   "cell_type": "code",
   "execution_count": 12,
   "id": "0f7d5e0c",
   "metadata": {},
   "outputs": [
    {
     "data": {
      "text/plain": [
       "MultiOutputRegressor(estimator=SVR(C=2000))"
      ]
     },
     "execution_count": 12,
     "metadata": {},
     "output_type": "execute_result"
    }
   ],
   "source": [
    "model.fit(x, y)"
   ]
  },
  {
   "cell_type": "code",
   "execution_count": 13,
   "id": "9bd2e247",
   "metadata": {},
   "outputs": [
    {
     "data": {
      "text/plain": [
       "46.38141525843769"
      ]
     },
     "execution_count": 13,
     "metadata": {},
     "output_type": "execute_result"
    }
   ],
   "source": [
    "from sklearn import metrics\n",
    "prediction = model.predict(x)\n",
    "metrics.mean_squared_error(prediction, y) ** 0.5"
   ]
  },
  {
   "cell_type": "code",
   "execution_count": 14,
   "id": "6ca15d46",
   "metadata": {},
   "outputs": [
    {
     "data": {
      "text/plain": [
       "[<matplotlib.lines.Line2D at 0x7f488f66e970>]"
      ]
     },
     "execution_count": 14,
     "metadata": {},
     "output_type": "execute_result"
    },
    {
     "data": {
      "image/png": "[encoded data removed]",
      "text/plain": [
       "<Figure size 432x288 with 1 Axes>"
      ]
     },
     "metadata": {
      "needs_background": "light"
     },
     "output_type": "display_data"
    }
   ],
   "source": [
    "from matplotlib import pyplot as plt\n",
    "plt.plot(metrics.mean_squared_error(prediction, y, multioutput=\"raw_values\") ** 0.5)"
   ]
  },
  {
   "cell_type": "code",
   "execution_count": null,
   "id": "a927423a",
   "metadata": {},
   "outputs": [],
   "source": []
  }
 ],
 "metadata": {
  "kernelspec": {
   "display_name": "Python 3 (ipykernel)",
   "language": "python",
   "name": "python3"
  },
  "language_info": {
   "codemirror_mode": {
    "name": "ipython",
    "version": 3
   },
   "file_extension": ".py",
   "mimetype": "text/x-python",
   "name": "python",
   "nbconvert_exporter": "python",
   "pygments_lexer": "ipython3",
   "version": "3.9.9"
  }
 },
 "nbformat": 4,
 "nbformat_minor": 5
}
